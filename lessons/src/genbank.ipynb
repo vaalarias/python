{
 "cells": [
  {
   "cell_type": "markdown",
   "metadata": {},
   "source": [
    "# Secuencias GenBankkkkkk"
   ]
  },
  {
   "cell_type": "code",
   "execution_count": 2,
   "metadata": {},
   "outputs": [
    {
     "name": "stdout",
     "output_type": "stream",
     "text": [
      "ID JN584162.1\n",
      "Secuencia TCCCTCCAGACACCAAACTGGAAAACTTCT ...\n",
      "Longitud 500\n"
     ]
    }
   ],
   "source": [
    "from Bio import SeqIO\n",
    "for gb_record in SeqIO.parse(\"aichi.gb\",\"genbank\"):\n",
    "\n",
    "    print('ID',gb_record.id)\n",
    "    # Solicitamos primeras 30 bases de la secuencia\n",
    "    print('Secuencia',str(gb_record.seq)[0:30],'...')\n",
    "    print('Longitud',len(gb_record))"
   ]
  },
  {
   "cell_type": "code",
   "execution_count": 4,
   "metadata": {},
   "outputs": [
    {
     "data": {
      "text/plain": [
       "dict_keys(['_seq', 'id', 'name', 'description', 'dbxrefs', 'annotations', '_per_letter_annotations', 'features'])"
      ]
     },
     "execution_count": 4,
     "metadata": {},
     "output_type": "execute_result"
    }
   ],
   "source": [
    "atributos =gb_record.__dict__\n",
    "# Solo nos da las llaves\n",
    "atributos.keys()"
   ]
  },
  {
   "cell_type": "markdown",
   "metadata": {},
   "source": [
    "## Otro archivo de virus"
   ]
  },
  {
   "cell_type": "code",
   "execution_count": 31,
   "metadata": {},
   "outputs": [
    {
     "name": "stdout",
     "output_type": "stream",
     "text": [
      "ID NC_020806.1\n",
      "Date: 13-AUG-2018\n",
      "Organism: Isfahan virus\n",
      "Country: ['Iran:Isfahan province']\n",
      "Isolation source: ['Phlebotomus papatasi']\n"
     ]
    }
   ],
   "source": [
    "from Bio import SeqIO\n",
    "for gb_virus in SeqIO.parse(\"virus.gb\",\"genbank\"):\n",
    "\n",
    "    print('ID',gb_virus.id)\n",
    "    if 'date' in gb_virus.annotations:\n",
    "        print('Date:', gb_virus.annotations['date'])\n",
    "    if 'organism' in gb_virus.annotations:\n",
    "        print('Organism:', gb_virus.annotations['organism'])\n",
    "    if 'country' in gb_virus.features[0].qualifiers:\n",
    "        print('Country:',gb_virus.features[0].qualifiers['country'])\n",
    "    if 'isolation_source' in gb_virus.features[0].qualifiers:\n",
    "        print('Isolation source:',gb_virus.features[0].qualifiers['isolation_source'])\n",
    "    \n"
   ]
  },
  {
   "cell_type": "code",
   "execution_count": 33,
   "metadata": {},
   "outputs": [
    {
     "data": {
      "text/plain": [
       "{'_seq': Seq('ACGGAGAAAAACAAACCAATTCACGCATTAGAAGATTCCAGAGGAAAGTGCTAA...CGT'),\n",
       " 'id': 'NC_020806.1',\n",
       " 'name': 'NC_020806',\n",
       " 'description': 'Isfahan virus N gene, P gene, M gene, G gene and L gene, genomic RNA',\n",
       " 'dbxrefs': ['Project:194141', 'BioProject:PRJNA485481'],\n",
       " 'annotations': {'molecule_type': 'RNA',\n",
       "  'topology': 'linear',\n",
       "  'data_file_division': 'VRL',\n",
       "  'date': '13-AUG-2018',\n",
       "  'accessions': ['NC_020806'],\n",
       "  'sequence_version': 1,\n",
       "  'keywords': ['RefSeq',\n",
       "   'G gene',\n",
       "   'glycoprotein',\n",
       "   'L gene',\n",
       "   'large polymerase protein',\n",
       "   'M gene',\n",
       "   'matrix protein',\n",
       "   'N gene',\n",
       "   'nucleocapsid protein',\n",
       "   'P gene',\n",
       "   'phosphoprotein'],\n",
       "  'source': 'Isfahan virus (ISFV)',\n",
       "  'organism': 'Isfahan virus',\n",
       "  'taxonomy': ['Viruses',\n",
       "   'Riboviria',\n",
       "   'Orthornavirae',\n",
       "   'Negarnaviricota',\n",
       "   'Haploviricotina',\n",
       "   'Monjiviricetes',\n",
       "   'Mononegavirales',\n",
       "   'Rhabdoviridae',\n",
       "   'Alpharhabdovirinae',\n",
       "   'Vesiculovirus'],\n",
       "  'references': [Reference(title='Complete genome sequences of Chandipura and Isfahan vesiculoviruses', ...),\n",
       "   Reference(title='Direct Submission', ...),\n",
       "   Reference(title='Direct Submission', ...)],\n",
       "  'comment': 'PROVISIONAL REFSEQ: This record has not yet been subject to final\\nNCBI review. The reference sequence is identical to AJ810084.\\nCOMPLETENESS: full length.'},\n",
       " '_per_letter_annotations': {},\n",
       " 'features': [SeqFeature(SimpleLocation(ExactPosition(0), ExactPosition(11088), strand=1), type='source', qualifiers=...),\n",
       "  SeqFeature(SimpleLocation(ExactPosition(65), ExactPosition(1337), strand=1), type='gene', qualifiers=...),\n",
       "  SeqFeature(SimpleLocation(ExactPosition(65), ExactPosition(1337), strand=1), type='CDS', qualifiers=...),\n",
       "  SeqFeature(SimpleLocation(ExactPosition(1382), ExactPosition(2252), strand=1), type='gene', qualifiers=...),\n",
       "  SeqFeature(SimpleLocation(ExactPosition(1382), ExactPosition(2252), strand=1), type='CDS', qualifiers=...),\n",
       "  SeqFeature(SimpleLocation(ExactPosition(2368), ExactPosition(3049), strand=1), type='gene', qualifiers=...),\n",
       "  SeqFeature(SimpleLocation(ExactPosition(2368), ExactPosition(3049), strand=1), type='CDS', qualifiers=...),\n",
       "  SeqFeature(SimpleLocation(ExactPosition(3120), ExactPosition(4692), strand=1), type='gene', qualifiers=...),\n",
       "  SeqFeature(SimpleLocation(ExactPosition(3120), ExactPosition(4692), strand=1), type='CDS', qualifiers=...),\n",
       "  SeqFeature(SimpleLocation(ExactPosition(4725), ExactPosition(11007), strand=1), type='gene', qualifiers=...),\n",
       "  SeqFeature(SimpleLocation(ExactPosition(4725), ExactPosition(11007), strand=1), type='CDS', qualifiers=...)]}"
      ]
     },
     "execution_count": 33,
     "metadata": {},
     "output_type": "execute_result"
    }
   ],
   "source": [
    "atributosvirus =gb_virus.__dict__\n",
    "atributosvirus"
   ]
  },
  {
   "cell_type": "code",
   "execution_count": 46,
   "metadata": {},
   "outputs": [
    {
     "data": {
      "text/plain": [
       "Seq('ATGACTTCTGTAGTAAAGAGGATTGCTACTGGCTCAAGTGTGTTGGCAGTACTA...TAA')"
      ]
     },
     "execution_count": 46,
     "metadata": {},
     "output_type": "execute_result"
    }
   ],
   "source": [
    "start = gb_virus.features[1].location.nofuzzy_start\n",
    "end = gb_virus.features[1].location.nofuzzy_end\n",
    "nueva_seq = gb_virus.seq[start:end]\n",
    "nueva_seq"
   ]
  }
 ],
 "metadata": {
  "kernelspec": {
   "display_name": "Python 3",
   "language": "python",
   "name": "python3"
  },
  "language_info": {
   "codemirror_mode": {
    "name": "ipython",
    "version": 3
   },
   "file_extension": ".py",
   "mimetype": "text/x-python",
   "name": "python",
   "nbconvert_exporter": "python",
   "pygments_lexer": "ipython3",
   "version": "3.10.11"
  },
  "orig_nbformat": 4
 },
 "nbformat": 4,
 "nbformat_minor": 2
}
