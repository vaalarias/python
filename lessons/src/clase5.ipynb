{
 "cells": [
  {
   "attachments": {},
   "cell_type": "markdown",
   "metadata": {},
   "source": [
    "EXPRESIONES REG"
   ]
  },
  {
   "cell_type": "code",
   "execution_count": 2,
   "metadata": {},
   "outputs": [
    {
     "name": "stdout",
     "output_type": "stream",
     "text": [
      "site found!\n"
     ]
    }
   ],
   "source": [
    "import re\n",
    "dna = \"ATCGCGAATTCACGGACC\"\n",
    "if re.search(r\"GG[AT]CC\", dna):\n",
    "    print(\"site found!\")"
   ]
  },
  {
   "cell_type": "code",
   "execution_count": 7,
   "metadata": {},
   "outputs": [
    {
     "name": "stdout",
     "output_type": "stream",
     "text": [
      "found!\n"
     ]
    }
   ],
   "source": [
    "dna = \"GGGATTT\"\n",
    "if re.search(r\"GGG(AA|A)?TTT\", dna):\n",
    "    print(\"found!\")"
   ]
  },
  {
   "cell_type": "code",
   "execution_count": 3,
   "metadata": {},
   "outputs": [
    {
     "ename": "TypeError",
     "evalue": "'NoneType' object is not iterable",
     "output_type": "error",
     "traceback": [
      "\u001b[1;31m---------------------------------------------------------------------------\u001b[0m",
      "\u001b[1;31mTypeError\u001b[0m                                 Traceback (most recent call last)",
      "Cell \u001b[1;32mIn[3], line 3\u001b[0m\n\u001b[0;32m      1\u001b[0m dna \u001b[39m=\u001b[39m \u001b[39m\"\u001b[39m\u001b[39mCTGCATTATATCGTACGAAATTATACGCGCG\u001b[39m\u001b[39m\"\u001b[39m\n\u001b[0;32m      2\u001b[0m found \u001b[39m=\u001b[39m (re\u001b[39m.\u001b[39msearch(\u001b[39mr\u001b[39m\u001b[39m\"\u001b[39m\u001b[39mA\u001b[39m\u001b[39m{5}\u001b[39;00m\u001b[39m|T\u001b[39m\u001b[39m{5}\u001b[39;00m\u001b[39m\"\u001b[39m, dna))\n\u001b[1;32m----> 3\u001b[0m \u001b[39mfor\u001b[39;00m m \u001b[39min\u001b[39;00m found:\n\u001b[0;32m      4\u001b[0m     \u001b[39mprint\u001b[39m(\u001b[39mf\u001b[39m\u001b[39m'\u001b[39m\u001b[39mEncontré \u001b[39m\u001b[39m{\u001b[39;00mm\u001b[39m.\u001b[39mgroup()\u001b[39m}\u001b[39;00m\u001b[39m en la posición \u001b[39m\u001b[39m{\u001b[39;00mm\u001b[39m.\u001b[39mstart()\u001b[39m}\u001b[39;00m\u001b[39m'\u001b[39m)\n",
      "\u001b[1;31mTypeError\u001b[0m: 'NoneType' object is not iterable"
     ]
    }
   ],
   "source": [
    "dna = \"CTGCATTATATCGTACGAAATTATACGCGCG\"\n",
    "found = (re.search(r\"A{5}|T{5}\", dna))\n",
    "for m in found:\n",
    "    print(f'Encontré {m.group()} en la posición {m.start()}')"
   ]
  }
 ],
 "metadata": {
  "kernelspec": {
   "display_name": "Python 3",
   "language": "python",
   "name": "python3"
  },
  "language_info": {
   "codemirror_mode": {
    "name": "ipython",
    "version": 3
   },
   "file_extension": ".py",
   "mimetype": "text/x-python",
   "name": "python",
   "nbconvert_exporter": "python",
   "pygments_lexer": "ipython3",
   "version": "3.10.11"
  },
  "orig_nbformat": 4,
  "vscode": {
   "interpreter": {
    "hash": "91f1ab8f297a0695ae3540dcc2af62ac5343d0913c5c8eb3d11375ae4efd9773"
   }
  }
 },
 "nbformat": 4,
 "nbformat_minor": 2
}
