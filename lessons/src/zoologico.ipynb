{
 "cells": [
  {
   "cell_type": "code",
   "execution_count": 55,
   "metadata": {},
   "outputs": [],
   "source": [
    "from random import choice\n",
    "\n",
    "class Mamifero():\n",
    "    # Atributos de la clase\n",
    "    vertebrado = True\n",
    "    amamanta = True\n",
    "\n",
    "    # Atributos de la instancia\n",
    "    def __init__(self,alimentacion,altura, peso):\n",
    "        self.alimentacion = alimentacion\n",
    "        self.altura = altura\n",
    "        self.peso = peso\n",
    "        self.progenie = 0\n",
    "\n",
    "    # Métodos\n",
    "    def reproducirse(self, max_progenie):\n",
    "        self.progenie += choice(range(max_progenie))\n",
    "\n",
    "    def crecer(self, crecimiento):\n",
    "        if self.altura is None:\n",
    "            self.altura = crecimiento\n",
    "        else:\n",
    "            self.altura += crecimiento\n",
    "        self.peso += crecimiento * 0.4\n",
    "\n",
    "perro = Mamifero(\"omnivoro\",3,6)\n",
    "perro.crecer(10)\n",
    "perro.reproducirse(6) \n"
   ]
  },
  {
   "cell_type": "code",
   "execution_count": 5,
   "metadata": {},
   "outputs": [
    {
     "data": {
      "text/plain": [
       "2"
      ]
     },
     "execution_count": 5,
     "metadata": {},
     "output_type": "execute_result"
    }
   ],
   "source": [
    "perro.progenie"
   ]
  },
  {
   "cell_type": "code",
   "execution_count": 45,
   "metadata": {},
   "outputs": [
    {
     "name": "stdout",
     "output_type": "stream",
     "text": [
      "AAAAAAAAAAAAH\n"
     ]
    }
   ],
   "source": [
    "class Animal:\n",
    "    def __init__(self, nombre, edad):\n",
    "        self.nombre = nombre\n",
    "        self.edad = edad\n",
    "\n",
    "    def haz_ruido(self):\n",
    "        print(\"AAAAAAAAAAAAH\")\n",
    "\n",
    "# Ejemplo de uso de la clase Animal\n",
    "mi_animal = Animal(\"pajarito\", 3)\n",
    "mi_animal.haz_ruido()\n"
   ]
  },
  {
   "cell_type": "code",
   "execution_count": 46,
   "metadata": {},
   "outputs": [],
   "source": [
    "class monotrema(Mamifero):\n",
    "    espolon = True\n",
    "    def poner_huevo(self, max_huevos):\n",
    "        huevos = 0\n",
    "        # Cuántos de esos huevos eclosionan\n",
    "        for n in range(max_huevos):\n",
    "            if choice([True, False]):\n",
    "                huevos += 1\n",
    "        if huevos>0:\n",
    "            self.reproducirse(huevos)"
   ]
  },
  {
   "cell_type": "code",
   "execution_count": 51,
   "metadata": {},
   "outputs": [
    {
     "data": {
      "text/plain": [
       "{'alimentacion': 'carnivoro', 'altura': 4, 'peso': 3, 'progenie': 0}"
      ]
     },
     "execution_count": 51,
     "metadata": {},
     "output_type": "execute_result"
    }
   ],
   "source": [
    "echidna = monotrema(\"carnivoro\",4,3)\n",
    "echidna.poner_huevo(5)\n",
    "echidna.__dict__"
   ]
  },
  {
   "cell_type": "code",
   "execution_count": 59,
   "metadata": {},
   "outputs": [
    {
     "data": {
      "text/plain": [
       "{'alimentacion': 'carnivoro',\n",
       " 'altura': 200,\n",
       " 'peso': 39744,\n",
       " 'progenie': 0,\n",
       " 'acuatico': True}"
      ]
     },
     "execution_count": 59,
     "metadata": {},
     "output_type": "execute_result"
    }
   ],
   "source": [
    "class placentario(Mamifero):\n",
    "    def __init__(self, alimentacion, altura, peso, acuatico, progenie=0):\n",
    "        Mamifero.__init__(self,alimentacion,altura,peso)\n",
    "        self.acuatico = acuatico\n",
    "    def crecer(self, crecimiento):\n",
    "        self.altura += crecimiento\n",
    "        self.peso += crecimiento * 2\n",
    "cachalote= placentario(\"carnivoro\",200,23*12**3,True)\n",
    "cachalote.__dict__"
   ]
  },
  {
   "cell_type": "code",
   "execution_count": 125,
   "metadata": {},
   "outputs": [],
   "source": [
    "class marsupial(Mamifero):\n",
    "    def __init__(self, alimentacion, altura, peso):\n",
    "        super().__init__(alimentacion, altura, peso)\n",
    "    def crecer(self, crecimiento):\n",
    "        self.altura += crecimiento\n",
    "        self.peso += crecimiento * 0.7\n",
    "tlacuache = marsupial('omnívoro', 30, 12)"
   ]
  },
  {
   "cell_type": "code",
   "execution_count": 126,
   "metadata": {},
   "outputs": [
    {
     "data": {
      "text/plain": [
       "(40944, 19.0)"
      ]
     },
     "execution_count": 126,
     "metadata": {},
     "output_type": "execute_result"
    }
   ],
   "source": [
    "for mamiferito in [cachalote, tlacuache]:\n",
    "  mamiferito.crecer(10)\n",
    "cachalote.peso, tlacuache.peso"
   ]
  }
 ],
 "metadata": {
  "kernelspec": {
   "display_name": "Python 3",
   "language": "python",
   "name": "python3"
  },
  "language_info": {
   "codemirror_mode": {
    "name": "ipython",
    "version": 3
   },
   "file_extension": ".py",
   "mimetype": "text/x-python",
   "name": "python",
   "nbconvert_exporter": "python",
   "pygments_lexer": "ipython3",
   "version": "3.10.11"
  },
  "orig_nbformat": 4
 },
 "nbformat": 4,
 "nbformat_minor": 2
}
