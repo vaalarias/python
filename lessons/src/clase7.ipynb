{
 "cells": [
  {
   "attachments": {},
   "cell_type": "markdown",
   "metadata": {},
   "source": [
    "### Funciones"
   ]
  },
  {
   "cell_type": "code",
   "execution_count": null,
   "metadata": {},
   "outputs": [],
   "source": [
    "# función sin parámetros o retorno de valores\n",
    "def diHola():\n",
    "  print(\"Hola!\")\n",
    "# llamada a la función, 'Hola!' se muestra en la consola\n",
    "diHola()"
   ]
  },
  {
   "cell_type": "code",
   "execution_count": null,
   "metadata": {},
   "outputs": [],
   "source": [
    "def get_at_content(dna): \n",
    "    length = len(dna) \n",
    "    a_count = dna.upper().count('A')\n",
    "    t_count = dna.upper().count('T') \n",
    "    at_content = (a_count + t_count) / length \n",
    "    return round(at_content, 2) # usamos round()\n",
    "print(get_at_content(\"ATGCGCGATCGATCGAATCG\"))\n",
    "print(get_at_content(\"ATGCATGCAACTGTAGC\"))\n",
    "print(get_at_content(\"aactgtagctagctagcagcgta\"))"
   ]
  },
  {
   "attachments": {},
   "cell_type": "markdown",
   "metadata": {},
   "source": [
    "## Ejercicio porcentaje de aminiacidos (casa)"
   ]
  },
  {
   "cell_type": "code",
   "execution_count": null,
   "metadata": {},
   "outputs": [],
   "source": [
    "def get_aa_percentage(sequence, aa_list=['A','I','L','M','F','W','Y','V']):\n",
    "    sequence = sequence.upper()\n",
    "    total_length = len(sequence)\n",
    "    count = 0\n",
    "\n",
    "    for aa in aa_list:\n",
    "        count += sequence.count(aa.upper())\n",
    "\n",
    "    percentage = (count / total_length) * 100\n",
    "    return percentage\n"
   ]
  },
  {
   "attachments": {},
   "cell_type": "markdown",
   "metadata": {},
   "source": [
    "## Encapsulación\n"
   ]
  },
  {
   "cell_type": "code",
   "execution_count": 10,
   "metadata": {},
   "outputs": [
    {
     "ename": "AttributeError",
     "evalue": "module 'test' has no attribute 'displayText'",
     "output_type": "error",
     "traceback": [
      "\u001b[1;31m---------------------------------------------------------------------------\u001b[0m",
      "\u001b[1;31mAttributeError\u001b[0m                            Traceback (most recent call last)",
      "Cell \u001b[1;32mIn[10], line 2\u001b[0m\n\u001b[0;32m      1\u001b[0m \u001b[39mimport\u001b[39;00m \u001b[39mtest\u001b[39;00m \u001b[39mas\u001b[39;00m \u001b[39mf\u001b[39;00m\n\u001b[1;32m----> 2\u001b[0m f\u001b[39m.\u001b[39;49mdisplayText()\n",
      "\u001b[1;31mAttributeError\u001b[0m: module 'test' has no attribute 'displayText'"
     ]
    }
   ],
   "source": [
    "import test as f\n",
    "f.displayText()"
   ]
  },
  {
   "cell_type": "code",
   "execution_count": 5,
   "metadata": {},
   "outputs": [
    {
     "ename": "ImportError",
     "evalue": "cannot import name 'displayText' from 'test' (unknown location)",
     "output_type": "error",
     "traceback": [
      "\u001b[1;31m---------------------------------------------------------------------------\u001b[0m",
      "\u001b[1;31mImportError\u001b[0m                               Traceback (most recent call last)",
      "Cell \u001b[1;32mIn[5], line 1\u001b[0m\n\u001b[1;32m----> 1\u001b[0m \u001b[39mfrom\u001b[39;00m \u001b[39mtest\u001b[39;00m \u001b[39mimport\u001b[39;00m displayText\n\u001b[0;32m      2\u001b[0m f\u001b[39m.\u001b[39mdisplayText()\n",
      "\u001b[1;31mImportError\u001b[0m: cannot import name 'displayText' from 'test' (unknown location)"
     ]
    }
   ],
   "source": [
    "from test import displayText\n",
    "f.displayText()"
   ]
  }
 ],
 "metadata": {
  "kernelspec": {
   "display_name": "Python 3",
   "language": "python",
   "name": "python3"
  },
  "language_info": {
   "codemirror_mode": {
    "name": "ipython",
    "version": 3
   },
   "file_extension": ".py",
   "mimetype": "text/x-python",
   "name": "python",
   "nbconvert_exporter": "python",
   "pygments_lexer": "ipython3",
   "version": "3.10.11"
  },
  "orig_nbformat": 4
 },
 "nbformat": 4,
 "nbformat_minor": 2
}
