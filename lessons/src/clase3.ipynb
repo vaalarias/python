{
 "cells": [
  {
   "attachments": {},
   "cell_type": "markdown",
   "metadata": {},
   "source": [
    "### Ejercicios con archivoss"
   ]
  },
  {
   "attachments": {},
   "cell_type": "markdown",
   "metadata": {},
   "source": [
    "#### Trabajando con archivo dna.txt en ruta `\"../data/dna.txt\"`"
   ]
  },
  {
   "cell_type": "code",
   "execution_count": 6,
   "metadata": {},
   "outputs": [
    {
     "name": "stdout",
     "output_type": "stream",
     "text": [
      "The sequence is ACCCGCGTATGCACACTGCATGGGGGTCACTGCTAATCAAACGCCGTAGGTTCAATACCGATTGCGCCCAAATCACCTGCCGAAATCGACGATTAGTAATGCCTATTCGAATTACAATATGCCGCGTCGGTTGATCCGAATAGTGTATCATAAAACTACACGTTTGAGATAGAAAGAGGGCTTAGGCGCGTACGCAATAAGCGATAGTGGTACAGGTGCTCTTAACCAAGTCTGTCAGGGCCTACCCTTCTCTGGTATGGTTTGCAAGGTCGGTCCTACATTCCTACTTTATGCCAGTGGTGCAGTTTATTCAGGTTGCAGGCATATAGGGTATTGTGCTTGGCAGGTCGCGTAAAAAGCGCTCGCATTTTACCATTATGATGCCTATGACTTTCCAGTGGAGGCATCTAAAAGTGGGCACGAATTGTTTTTTGGTTGTCGTTAAACACCAATGTGTATAGGGCCTGGAGATAGAGGGGGCCTATACAGTTTCGAAGTGGTGACATCCAACGCCCAGGCCTCCCGCTTGGTGGAAAAGCGTACGGAGCTCTAAATACTCCAAGATCTAAACCACTTGGCTGAGGGTATGCTATCTGTCCTATCACCAACGCAACCGTGCATGGAAGGATAGGCGCGAGCGCCTAGTAAGCTCGAATCAGTGTAATTTGCGAAGCGCTCGCTATGCGTATGCGACTGTGTGAGTTGCAGGTAGAAGACAAATTCAATCGTCGTGGGCGGTTACTCCTCTACAAATAACGTCCTGCAGAATTACGACCCCGCCGAAACTCTAGCAGTTGGGGGTTGTCTAACCGAGGGTACCGGAATTCACCGAAATGTT\n",
      " and length is 839\n"
     ]
    }
   ],
   "source": [
    "# Abriendo el archivo\n",
    "#my_file = open(\"../data/dna.txt\")\n",
    "# Leyendo el archivo\n",
    "#my_file_contents = my_file.read()\n",
    "\n",
    "# Agregar el nombre del archivo como variable\n",
    "my_file_name = \"../data/dna.txt\"\n",
    "\n",
    "# Leer el archivo\n",
    "my_file = open(my_file_name)\n",
    "my_dna = my_file.read()\n",
    "\n",
    "# Calular la longitud\n",
    "dna_length = len(my_dna)\n",
    "\n",
    "# Mostrar mensaje\n",
    "print(\"The sequence is \" + my_dna +  \" and length is \" + str(dna_length))"
   ]
  },
  {
   "attachments": {},
   "cell_type": "markdown",
   "metadata": {},
   "source": [
    "Cuenta 839 caracteres pero python lee el archivo con un \\n por lo tanto este salto de línea afecta el conteo, se quita con la siguiente línea"
   ]
  },
  {
   "cell_type": "code",
   "execution_count": 7,
   "metadata": {},
   "outputs": [
    {
     "name": "stdout",
     "output_type": "stream",
     "text": [
      "The sequence is ACCCGCGTATGCACACTGCATGGGGGTCACTGCTAATCAAACGCCGTAGGTTCAATACCGATTGCGCCCAAATCACCTGCCGAAATCGACGATTAGTAATGCCTATTCGAATTACAATATGCCGCGTCGGTTGATCCGAATAGTGTATCATAAAACTACACGTTTGAGATAGAAAGAGGGCTTAGGCGCGTACGCAATAAGCGATAGTGGTACAGGTGCTCTTAACCAAGTCTGTCAGGGCCTACCCTTCTCTGGTATGGTTTGCAAGGTCGGTCCTACATTCCTACTTTATGCCAGTGGTGCAGTTTATTCAGGTTGCAGGCATATAGGGTATTGTGCTTGGCAGGTCGCGTAAAAAGCGCTCGCATTTTACCATTATGATGCCTATGACTTTCCAGTGGAGGCATCTAAAAGTGGGCACGAATTGTTTTTTGGTTGTCGTTAAACACCAATGTGTATAGGGCCTGGAGATAGAGGGGGCCTATACAGTTTCGAAGTGGTGACATCCAACGCCCAGGCCTCCCGCTTGGTGGAAAAGCGTACGGAGCTCTAAATACTCCAAGATCTAAACCACTTGGCTGAGGGTATGCTATCTGTCCTATCACCAACGCAACCGTGCATGGAAGGATAGGCGCGAGCGCCTAGTAAGCTCGAATCAGTGTAATTTGCGAAGCGCTCGCTATGCGTATGCGACTGTGTGAGTTGCAGGTAGAAGACAAATTCAATCGTCGTGGGCGGTTACTCCTCTACAAATAACGTCCTGCAGAATTACGACCCCGCCGAAACTCTAGCAGTTGGGGGTTGTCTAACCGAGGGTACCGGAATTCACCGAAATGTT and length is 838\n"
     ]
    }
   ],
   "source": [
    "# Quitar el caracter de nueva linea \\n\n",
    "my_dna = my_file_contents.rstrip(\"\\n\")\n",
    "\n",
    "# O podemos my_dna = my_file.read().rstrip(\"\\n\")\n",
    "\n",
    "# Calular la longitud\n",
    "dna_length = len(my_dna)\n",
    "\n",
    "# Mostrar mensaje\n",
    "print(\"The sequence is \" + my_dna +  \" and length is \" + str(dna_length))"
   ]
  },
  {
   "attachments": {},
   "cell_type": "markdown",
   "metadata": {},
   "source": [
    "#### Ejercicio de creación de archivos"
   ]
  },
  {
   "cell_type": "code",
   "execution_count": 24,
   "metadata": {},
   "outputs": [],
   "source": [
    "# Creación de archivo\n",
    "myfile = open(\"../results/out.txt\",\"w\")\n",
    "myfile.write(\"Hola este es un ejercicio para hacer un archivo\")\n",
    "myfile.close()"
   ]
  },
  {
   "cell_type": "code",
   "execution_count": 25,
   "metadata": {},
   "outputs": [
    {
     "name": "stdout",
     "output_type": "stream",
     "text": [
      "Hola este es un ejercicio para hacer un archivo\n"
     ]
    }
   ],
   "source": [
    "# Imprimir archivo creado\n",
    "out=open(\"../results/out.txt\")\n",
    "print(out.read())"
   ]
  }
 ],
 "metadata": {
  "kernelspec": {
   "display_name": "Python 3",
   "language": "python",
   "name": "python3"
  },
  "language_info": {
   "codemirror_mode": {
    "name": "ipython",
    "version": 3
   },
   "file_extension": ".py",
   "mimetype": "text/x-python",
   "name": "python",
   "nbconvert_exporter": "python",
   "pygments_lexer": "ipython3",
   "version": "3.10.10"
  },
  "orig_nbformat": 4
 },
 "nbformat": 4,
 "nbformat_minor": 2
}
