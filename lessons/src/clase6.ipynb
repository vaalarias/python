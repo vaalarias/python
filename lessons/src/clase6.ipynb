{
 "cells": [
  {
   "attachments": {},
   "cell_type": "markdown",
   "metadata": {},
   "source": [
    "## Manejo de excepciones \n"
   ]
  },
  {
   "cell_type": "code",
   "execution_count": 2,
   "metadata": {},
   "outputs": [
    {
     "name": "stdout",
     "output_type": "stream",
     "text": [
      "sorry, couldn't find the file\n",
      "continuing....\n"
     ]
    }
   ],
   "source": [
    "try:\n",
    "    f = open('misssing')\n",
    "    print('file contents: ' + f.read())\n",
    "except:\n",
    "    print(\"sorry, couldn't find the file\")\n",
    "print(\"continuing....\")"
   ]
  },
  {
   "cell_type": "code",
   "execution_count": 1,
   "metadata": {},
   "outputs": [
    {
     "name": "stdout",
     "output_type": "stream",
     "text": [
      "0.45454545454545453\n"
     ]
    },
    {
     "ename": "ValueError",
     "evalue": "Sequence contains 1 N's",
     "output_type": "error",
     "traceback": [
      "\u001b[1;31m---------------------------------------------------------------------------\u001b[0m",
      "\u001b[1;31mValueError\u001b[0m                                Traceback (most recent call last)",
      "Cell \u001b[1;32mIn[1], line 10\u001b[0m\n\u001b[0;32m      8\u001b[0m     \u001b[39mreturn\u001b[39;00m at_content\n\u001b[0;32m      9\u001b[0m \u001b[39mprint\u001b[39m(get_at_content(\u001b[39m'\u001b[39m\u001b[39mACGTACGTGAC\u001b[39m\u001b[39m'\u001b[39m))\n\u001b[1;32m---> 10\u001b[0m \u001b[39mprint\u001b[39m(get_at_content(\u001b[39m'\u001b[39;49m\u001b[39mACTGCTNAACT\u001b[39;49m\u001b[39m'\u001b[39;49m))\n",
      "Cell \u001b[1;32mIn[1], line 3\u001b[0m, in \u001b[0;36mget_at_content\u001b[1;34m(dna)\u001b[0m\n\u001b[0;32m      1\u001b[0m \u001b[39mdef\u001b[39;00m \u001b[39mget_at_content\u001b[39m(dna):\n\u001b[0;32m      2\u001b[0m     \u001b[39mif\u001b[39;00m dna\u001b[39m.\u001b[39mcount(\u001b[39m\"\u001b[39m\u001b[39mN\u001b[39m\u001b[39m\"\u001b[39m) \u001b[39m>\u001b[39m \u001b[39m0\u001b[39m:\n\u001b[1;32m----> 3\u001b[0m         \u001b[39mraise\u001b[39;00m \u001b[39mValueError\u001b[39;00m(\u001b[39mf\u001b[39m\u001b[39m'\u001b[39m\u001b[39mSequence contains \u001b[39m\u001b[39m{\u001b[39;00mdna\u001b[39m.\u001b[39mcount(\u001b[39m\"\u001b[39m\u001b[39mN\u001b[39m\u001b[39m\"\u001b[39m)\u001b[39m}\u001b[39;00m\u001b[39m N\u001b[39m\u001b[39m\\'\u001b[39;00m\u001b[39ms\u001b[39m\u001b[39m'\u001b[39m)\n\u001b[0;32m      4\u001b[0m     length \u001b[39m=\u001b[39m \u001b[39mlen\u001b[39m(dna)\n\u001b[0;32m      5\u001b[0m     a_count \u001b[39m=\u001b[39m dna\u001b[39m.\u001b[39mcount(\u001b[39m'\u001b[39m\u001b[39mA\u001b[39m\u001b[39m'\u001b[39m)\n",
      "\u001b[1;31mValueError\u001b[0m: Sequence contains 1 N's"
     ]
    }
   ],
   "source": [
    "def get_at_content(dna):\n",
    "    if dna.count(\"N\") > 0:\n",
    "        raise ValueError(f'Sequence contains {dna.count(\"N\")} N\\'s')\n",
    "    length = len(dna)\n",
    "    a_count = dna.count('A')\n",
    "    t_count = dna.count('T')\n",
    "    at_content = (a_count + t_count) / length\n",
    "    return at_content\n",
    "print(get_at_content('ACGTACGTGAC'))\n",
    "print(get_at_content('ACTGCTNAACT'))"
   ]
  },
  {
   "attachments": {},
   "cell_type": "markdown",
   "metadata": {},
   "source": [
    "de esta manera podemos evaluar errores \n"
   ]
  },
  {
   "attachments": {},
   "cell_type": "markdown",
   "metadata": {},
   "source": [
    "### Sintaxis"
   ]
  },
  {
   "cell_type": "code",
   "execution_count": null,
   "metadata": {},
   "outputs": [],
   "source": [
    "try:\n",
    "    # el código aquí se ejecutará hasta que se genere una excepción\n",
    "except ExceptionTypeOne:\n",
    "    # código aquí se ejecutará si hay una excepción ExceptionTypeOne\n",
    "    # está dentro del bloque try\n",
    "except ExceptionTypeTwo:\n",
    "    # código aquí se ejecutará si hay una excepción ExceptionTypeTwo\n",
    "    # está dentro del bloque try\n",
    "else:\n",
    "    # el código aquí se ejecutará después del bloque try\n",
    "    # si no genera una excepción\n",
    "finally:\n",
    "    # el código aquí siempre se ejecutará"
   ]
  },
  {
   "cell_type": "code",
   "execution_count": null,
   "metadata": {},
   "outputs": [],
   "source": [
    "#Ejemplo bonito con un for\n",
    "sequences = ['ACGTACGTGAC', 'ACTGCTNAACT', 'ATGGCGCTAGC']\n",
    "for seq in sequences:\n",
    "    try:\n",
    "        print('AT content for ' + seq + ' is ' + str(get_at_content(seq)))\n",
    "    except ValueError as ex:\n",
    "        print('skipping invalid sequence '+ ex.args[0])"
   ]
  },
  {
   "attachments": {},
   "cell_type": "markdown",
   "metadata": {},
   "source": [
    "queda de tarea corregir programas y agregarles manejo de excepciones"
   ]
  }
 ],
 "metadata": {
  "kernelspec": {
   "display_name": "Python 3",
   "language": "python",
   "name": "python3"
  },
  "language_info": {
   "codemirror_mode": {
    "name": "ipython",
    "version": 3
   },
   "file_extension": ".py",
   "mimetype": "text/x-python",
   "name": "python",
   "nbconvert_exporter": "python",
   "pygments_lexer": "ipython3",
   "version": "3.10.11"
  },
  "orig_nbformat": 4
 },
 "nbformat": 4,
 "nbformat_minor": 2
}
