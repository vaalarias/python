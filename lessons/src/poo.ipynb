{
 "cells": [
  {
   "cell_type": "markdown",
   "metadata": {},
   "source": [
    "### Hola es la primera clase\n"
   ]
  },
  {
   "cell_type": "code",
   "execution_count": 42,
   "metadata": {},
   "outputs": [],
   "source": [
    "from random import choice, seed\n",
    "class mamifero():\n",
    "    # Atributos de la clase\n",
    "    vertebrado = True\n",
    "    amamanta = True\n",
    "    # Atributo de la instancia\n",
    "    alimentacion: ''\n",
    "    altura: None\n",
    "    peso : 0\n",
    "    progenie : 0\n",
    "    # meeeeetodos definiendo una funcion que recibe parámetro self\n",
    "    def reproducirse(self,max_progenie):\n",
    "        self.progenie += choice(range(max_progenie))\n",
    "    def crecer(self, crecimiento):\n",
    "        self.altura += crecimiento\n",
    "        self.peso += crecimiento * 0.4"
   ]
  },
  {
   "cell_type": "markdown",
   "metadata": {},
   "source": [
    "### instancia :)"
   ]
  },
  {
   "cell_type": "code",
   "execution_count": 44,
   "metadata": {},
   "outputs": [
    {
     "ename": "AttributeError",
     "evalue": "'mamifero' object has no attribute 'progenie'",
     "output_type": "error",
     "traceback": [
      "\u001b[1;31m---------------------------------------------------------------------------\u001b[0m",
      "\u001b[1;31mAttributeError\u001b[0m                            Traceback (most recent call last)",
      "Cell \u001b[1;32mIn[44], line 5\u001b[0m\n\u001b[0;32m      3\u001b[0m perro\u001b[39m.\u001b[39maltura \u001b[39m=\u001b[39m \u001b[39m43\u001b[39m\n\u001b[0;32m      4\u001b[0m perro\u001b[39m.\u001b[39mpeso \u001b[39m=\u001b[39m \u001b[39m6.2\u001b[39m\n\u001b[1;32m----> 5\u001b[0m perro\u001b[39m.\u001b[39;49mreproducirse (\u001b[39m6\u001b[39;49m)\n",
      "Cell \u001b[1;32mIn[42], line 13\u001b[0m, in \u001b[0;36mmamifero.reproducirse\u001b[1;34m(self, max_progenie)\u001b[0m\n\u001b[0;32m     12\u001b[0m \u001b[39mdef\u001b[39;00m \u001b[39mreproducirse\u001b[39m(\u001b[39mself\u001b[39m,max_progenie):\n\u001b[1;32m---> 13\u001b[0m     \u001b[39mself\u001b[39m\u001b[39m.\u001b[39mprogenie \u001b[39m+\u001b[39m\u001b[39m=\u001b[39m choice(\u001b[39mrange\u001b[39m(max_progenie))\n",
      "\u001b[1;31mAttributeError\u001b[0m: 'mamifero' object has no attribute 'progenie'"
     ]
    }
   ],
   "source": [
    "perro = mamifero()\n",
    "perro.alimentacion = 'omnivoro'\n",
    "perro.altura = 43\n",
    "perro.peso = 6.2\n",
    "perro.reproducirse (6)"
   ]
  },
  {
   "cell_type": "code",
   "execution_count": 40,
   "metadata": {},
   "outputs": [],
   "source": [
    "class animal ():\n",
    "    nombre = ''\n",
    "    edad =''\n",
    "    def haz_ruido(self):\n",
    "        print= (\"AAAAAHHH\")"
   ]
  },
  {
   "cell_type": "code",
   "execution_count": 41,
   "metadata": {},
   "outputs": [],
   "source": [
    "pajaro = animal()\n",
    "pajaro.haz_ruido()"
   ]
  }
 ],
 "metadata": {
  "kernelspec": {
   "display_name": "Python 3",
   "language": "python",
   "name": "python3"
  },
  "language_info": {
   "codemirror_mode": {
    "name": "ipython",
    "version": 3
   },
   "file_extension": ".py",
   "mimetype": "text/x-python",
   "name": "python",
   "nbconvert_exporter": "python",
   "pygments_lexer": "ipython3",
   "version": "3.10.11"
  },
  "orig_nbformat": 4
 },
 "nbformat": 4,
 "nbformat_minor": 2
}
